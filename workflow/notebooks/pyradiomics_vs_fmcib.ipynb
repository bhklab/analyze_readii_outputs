{
 "cells": [
  {
   "cell_type": "markdown",
   "metadata": {},
   "source": [
    "# Correlation analysis between PyRadiomics and FMCIB imaging features"
   ]
  },
  {
   "cell_type": "code",
   "execution_count": 8,
   "metadata": {},
   "outputs": [],
   "source": [
    "import pandas as pd\n",
    "import numpy as np\n",
    "import matplotlib.pyplot as plt\n",
    "import seaborn as sns\n",
    "import os\n",
    "\n",
    "import sys; sys.path.insert(0, '..')\n",
    "from scripts.python.readii_analysis.data.helpers import (\n",
    "    loadFeatureFilesFromImageTypes, \n",
    "    loadImageDatasetConfig,\n",
    "    savePlotFigure)\n",
    "from scripts.python.readii_analysis.analyze.correlation_functions import (\n",
    "    getFeatureCorrelations, \n",
    "    plotCrossCorrelationHeatmap)"
   ]
  },
  {
   "cell_type": "code",
   "execution_count": 6,
   "metadata": {},
   "outputs": [],
   "source": [
    "dataset_name = \"RADCURE\"\n",
    "extracted_feature_dir = \"train_test_split/train_features\"\n",
    "\n",
    "PROC_DATA_PATH = \"../../procdata/\"\n",
    "RESULTS_DATA_PATH = \"../../results/\"\n",
    "CONFIG_DIR_PATH = \"../config/\"\n",
    "CORRELATION_METHOD = \"pearson\"\n",
    "CORR_COLOR_MAP = \"viridis\""
   ]
  },
  {
   "cell_type": "code",
   "execution_count": 3,
   "metadata": {},
   "outputs": [],
   "source": [
    "config = loadImageDatasetConfig(dataset_name, CONFIG_DIR_PATH)"
   ]
  },
  {
   "cell_type": "code",
   "execution_count": 7,
   "metadata": {},
   "outputs": [],
   "source": [
    "output_dir = os.path.join(RESULTS_DATA_PATH, dataset_name, \"pyradiomics_vs_fmcib\")\n",
    "os.makedirs(output_dir, exist_ok=True)"
   ]
  },
  {
   "cell_type": "code",
   "execution_count": 5,
   "metadata": {},
   "outputs": [],
   "source": [
    "pyradiomics_features_dir = os.path.join(PROC_DATA_PATH, dataset_name, \"radiomic\", extracted_feature_dir)\n",
    "fmcib_features_dir = os.path.join(PROC_DATA_PATH, dataset_name, \"deep_learning\", extracted_feature_dir)\n",
    "\n",
    "pyradiomic_feature_sets = loadFeatureFilesFromImageTypes(pyradiomics_features_dir, \n",
    "                                                         image_types=config[\"image_types\"], \n",
    "                                                         drop_labels=True, \n",
    "                                                         labels_to_drop=[\"patient_ID\",\"survival_time_in_years\",\"survival_event_binary\"])\n",
    "\n",
    "fmcib_feature_sets = loadFeatureFilesFromImageTypes(fmcib_features_dir, \n",
    "                                                    image_types=config[\"image_types\"], \n",
    "                                                    drop_labels=True, \n",
    "                                                    labels_to_drop=[\"patient_ID\",\"survival_time_in_years\",\"survival_event_binary\"])"
   ]
  },
  {
   "cell_type": "code",
   "execution_count": null,
   "metadata": {},
   "outputs": [
    {
     "ename": "TypeError",
     "evalue": "plotCrossCorrelationHeatmap() got an unexpected keyword argument 'corr_cmap'",
     "output_type": "error",
     "traceback": [
      "\u001b[0;31m---------------------------------------------------------------------------\u001b[0m",
      "\u001b[0;31mTypeError\u001b[0m                                 Traceback (most recent call last)",
      "Cell \u001b[0;32mIn[10], line 11\u001b[0m\n\u001b[1;32m      3\u001b[0m fmcib_features \u001b[38;5;241m=\u001b[39m fmcib_feature_sets[image_type]\n\u001b[1;32m      5\u001b[0m feature_correlation_matrix \u001b[38;5;241m=\u001b[39m getFeatureCorrelations(vertical_features \u001b[38;5;241m=\u001b[39m pyrad_features,\n\u001b[1;32m      6\u001b[0m                                                     horizontal_features \u001b[38;5;241m=\u001b[39m fmcib_features,\n\u001b[1;32m      7\u001b[0m                                                     method\u001b[38;5;241m=\u001b[39m\u001b[38;5;124m\"\u001b[39m\u001b[38;5;124mpearson\u001b[39m\u001b[38;5;124m\"\u001b[39m,\n\u001b[1;32m      8\u001b[0m                                                     vertical_feature_name\u001b[38;5;241m=\u001b[39m\u001b[38;5;124m\"\u001b[39m\u001b[38;5;124mpyradiomics\u001b[39m\u001b[38;5;124m\"\u001b[39m,\n\u001b[1;32m      9\u001b[0m                                                     horizontal_feature_name\u001b[38;5;241m=\u001b[39m\u001b[38;5;124m\"\u001b[39m\u001b[38;5;124mfmcib\u001b[39m\u001b[38;5;124m\"\u001b[39m)\n\u001b[0;32m---> 11\u001b[0m pyrad_vs_fmcib_corr_plot \u001b[38;5;241m=\u001b[39m \u001b[43mplotCrossCorrelationHeatmap\u001b[49m\u001b[43m(\u001b[49m\u001b[43mcorrelation_matrix\u001b[49m\u001b[38;5;241;43m=\u001b[39;49m\u001b[43mfeature_correlation_matrix\u001b[49m\u001b[43m,\u001b[49m\n\u001b[1;32m     12\u001b[0m \u001b[43m                                                       \u001b[49m\u001b[43mnum_vertical_features\u001b[49m\u001b[38;5;241;43m=\u001b[39;49m\u001b[38;5;28;43mlen\u001b[39;49m\u001b[43m(\u001b[49m\u001b[43mpyrad_features\u001b[49m\u001b[43m)\u001b[49m\u001b[43m,\u001b[49m\n\u001b[1;32m     13\u001b[0m \u001b[43m                                                       \u001b[49m\u001b[43mvertical_feature_name\u001b[49m\u001b[38;5;241;43m=\u001b[39;49m\u001b[38;5;124;43m\"\u001b[39;49m\u001b[38;5;124;43mPyRadiomics\u001b[39;49m\u001b[38;5;124;43m\"\u001b[39;49m\u001b[43m,\u001b[49m\n\u001b[1;32m     14\u001b[0m \u001b[43m                                                       \u001b[49m\u001b[43mhorizontal_feature_name\u001b[49m\u001b[38;5;241;43m=\u001b[39;49m\u001b[38;5;124;43m\"\u001b[39;49m\u001b[38;5;124;43mFMCIB\u001b[39;49m\u001b[38;5;124;43m\"\u001b[39;49m\u001b[43m,\u001b[49m\n\u001b[1;32m     15\u001b[0m \u001b[43m                                                       \u001b[49m\u001b[43mcorr_cmap\u001b[49m\u001b[38;5;241;43m=\u001b[39;49m\u001b[43mCORR_COLOR_MAP\u001b[49m\u001b[43m,\u001b[49m\n\u001b[1;32m     16\u001b[0m \u001b[43m                                                       \u001b[49m\u001b[43mcorrelation_method\u001b[49m\u001b[38;5;241;43m=\u001b[39;49m\u001b[38;5;124;43m\"\u001b[39;49m\u001b[38;5;124;43mPearson\u001b[39;49m\u001b[38;5;124;43m\"\u001b[39;49m\u001b[43m,\u001b[49m\n\u001b[1;32m     17\u001b[0m \u001b[43m                                                       \u001b[49m\u001b[43mdataset_name\u001b[49m\u001b[38;5;241;43m=\u001b[39;49m\u001b[43mdataset_name\u001b[49m\n\u001b[1;32m     18\u001b[0m \u001b[43m                                                       \u001b[49m\u001b[43m)\u001b[49m\n\u001b[1;32m     20\u001b[0m savePlotFigure(pyrad_vs_fmcib_corr_plot,\n\u001b[1;32m     21\u001b[0m                plot_name\u001b[38;5;241m=\u001b[39m\u001b[38;5;124mf\u001b[39m\u001b[38;5;124m\"\u001b[39m\u001b[38;5;132;01m{\u001b[39;00mdataset_name\u001b[38;5;132;01m}\u001b[39;00m\u001b[38;5;124m_Pearson_corr_pyrad_vs_fmcib_\u001b[39m\u001b[38;5;132;01m{\u001b[39;00mimage_type\u001b[38;5;132;01m}\u001b[39;00m\u001b[38;5;124m_plot.png\u001b[39m\u001b[38;5;124m\"\u001b[39m,\n\u001b[1;32m     22\u001b[0m                output_dir_path\u001b[38;5;241m=\u001b[39moutput_dir)\n",
      "\u001b[0;31mTypeError\u001b[0m: plotCrossCorrelationHeatmap() got an unexpected keyword argument 'corr_cmap'"
     ]
    }
   ],
   "source": [
    "for image_type in config[\"image_types\"]:\n",
    "    print(f\"Calculating {image_type} correlations\")\n",
    "    pyrad_features = pyradiomic_feature_sets[image_type]\n",
    "    fmcib_features = fmcib_feature_sets[image_type]\n",
    "\n",
    "    feature_correlation_matrix = getFeatureCorrelations(vertical_features = pyrad_features,\n",
    "                                                        horizontal_features = fmcib_features,\n",
    "                                                        method=\"pearson\",\n",
    "                                                        vertical_feature_name=\"pyradiomics\",\n",
    "                                                        horizontal_feature_name=\"fmcib\")\n",
    "    print()\n",
    "    \n",
    "    pyrad_vs_fmcib_corr_plot = plotCrossCorrelationHeatmap(correlation_matrix=feature_correlation_matrix,\n",
    "                                                           num_vertical_features=len(pyrad_features),\n",
    "                                                           vertical_feature_name=\"PyRadiomics\",\n",
    "                                                           horizontal_feature_name=\"FMCIB\",\n",
    "                                                           cmap=CORR_COLOR_MAP,\n",
    "                                                           correlation_method=\"Pearson\",\n",
    "                                                           dataset_name=dataset_name\n",
    "                                                           )\n",
    "    plt.close('all')\n",
    "    savePlotFigure(pyrad_vs_fmcib_corr_plot,\n",
    "                   plot_name=f\"{dataset_name}_Pearson_corr_pyrad_vs_fmcib_{image_type}_plot.png\",\n",
    "                   output_dir_path=output_dir)"
   ]
  },
  {
   "cell_type": "code",
   "execution_count": null,
   "metadata": {},
   "outputs": [],
   "source": []
  }
 ],
 "metadata": {
  "kernelspec": {
   "display_name": "default",
   "language": "python",
   "name": "python3"
  },
  "language_info": {
   "codemirror_mode": {
    "name": "ipython",
    "version": 3
   },
   "file_extension": ".py",
   "mimetype": "text/x-python",
   "name": "python",
   "nbconvert_exporter": "python",
   "pygments_lexer": "ipython3",
   "version": "3.13.0"
  }
 },
 "nbformat": 4,
 "nbformat_minor": 2
}
