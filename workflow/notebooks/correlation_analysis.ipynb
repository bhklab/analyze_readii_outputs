{
 "cells": [
  {
   "cell_type": "code",
   "execution_count": null,
   "metadata": {},
   "outputs": [],
   "source": [
    "import pandas as pd\n",
    "import numpy as np\n",
    "import matplotlib.pyplot as plt\n",
    "import seaborn as sns\n",
    "import os\n",
    "\n",
    "import sys; sys.path.insert(0, '..')\n",
    "from scripts.python.readii_analysis.data.helpers import loadFeatureFilesFromImageTypes, loadImageDatasetConfig, savePlotFigure, makeProcessedDataFolders\n",
    "from scripts.python.readii_analysis.analyze.correlation_functions import getFeatureCorrelations, plotCorrelationHeatmap, plotCorrelationDistribution"
   ]
  },
  {
   "cell_type": "markdown",
   "metadata": {},
   "source": [
    "# Load config file"
   ]
  },
  {
   "cell_type": "code",
   "execution_count": 2,
   "metadata": {},
   "outputs": [],
   "source": [
    "dataset_name = \"RADCURE\"\n",
    "config = loadImageDatasetConfig(dataset_name,\n",
    "                                config_dir_path=\"../config\")"
   ]
  },
  {
   "cell_type": "markdown",
   "metadata": {},
   "source": [
    "# Set image feature extraction method"
   ]
  },
  {
   "cell_type": "code",
   "execution_count": null,
   "metadata": {},
   "outputs": [],
   "source": [
    "# Must be one of the directories in the procdata/{dataset_name} directory (not clinical)\n",
    "extraction_method = \"radiomics\"\n",
    "# extraction_method = \"deep_learning\"\n",
    "\n",
    "print(f\"Analyzing {extraction_method} features.\")"
   ]
  },
  {
   "cell_type": "markdown",
   "metadata": {},
   "source": [
    "# Setup Results directory"
   ]
  },
  {
   "cell_type": "code",
   "execution_count": 3,
   "metadata": {},
   "outputs": [],
   "source": [
    "RESULTS_DATA_PATH = f\"../../../results/\""
   ]
  },
  {
   "cell_type": "code",
   "execution_count": null,
   "metadata": {},
   "outputs": [],
   "source": [
    "# Results data folder creation\n",
    "makeProcessedDataFolders(dataset_name=dataset_name,\n",
    "                         proc_data_path=RESULTS_DATA_PATH,\n",
    "                         data_sources=[extraction_method],\n",
    "                         data_types=[\"\"],\n",
    "                         train_test_split=config[\"train_test_split\"][\"split\"])"
   ]
  },
  {
   "cell_type": "markdown",
   "metadata": {},
   "source": [
    "# Load all feature sets"
   ]
  },
  {
   "cell_type": "code",
   "execution_count": null,
   "metadata": {},
   "outputs": [],
   "source": [
    "extracted_image_feature_dir = f\"../../procdata/{dataset_name}/{extraction_method}/train_test_split/train_features\"\n",
    "image_feature_sets = loadFeatureFilesFromImageTypes(extracted_feature_dir = extracted_image_feature_dir,\n",
    "                                image_types=config[\"image_types\"],\n",
    "                                drop_labels=True)\n",
    "\n",
    "print(\"Feature sets available for analysis:\")\n",
    "for feature_set in image_feature_sets.keys():\n",
    "    print(\"  ->\", feature_set)"
   ]
  },
  {
   "cell_type": "markdown",
   "metadata": {},
   "source": [
    "# Correlation Calculations"
   ]
  },
  {
   "cell_type": "code",
   "execution_count": null,
   "metadata": {},
   "outputs": [],
   "source": [
    "# Set up which feature sets to analyze\n",
    "# This feature set will be used for the vertical axis (y-axis)\n",
    "feature_set_vertical = \"original\"\n",
    "# This feature set will be used for the horizontal axis (x-axis)\n",
    "feature_set_horizontal = \"shuffled_full\""
   ]
  },
  {
   "cell_type": "code",
   "execution_count": null,
   "metadata": {},
   "outputs": [],
   "source": [
    "# Set up features for correlation calculation\n",
    "vertical_features = image_feature_sets[feature_set_vertical]\n",
    "horizontal_features = image_feature_sets[feature_set_horizontal]\n",
    "\n",
    "# Select method\n",
    "correlation_method = \"pearson\"\n",
    "\n",
    "# Calculate Pearson correlation matrix\n",
    "feature_correlation_matrix = getFeatureCorrelations(vertical_features = vertical_features, \n",
    "                                                    horizontal_features = horizontal_features,\n",
    "                                                    method = correlation_method,\n",
    "                                                    vertical_feature_name=feature_set_vertical,\n",
    "                                                    horizontal_feature_name=feature_set_horizontal)"
   ]
  },
  {
   "cell_type": "markdown",
   "metadata": {},
   "source": [
    "# Get different correlation matrix combinations"
   ]
  },
  {
   "cell_type": "code",
   "execution_count": null,
   "metadata": {},
   "outputs": [],
   "source": [
    "# Select out correlations for vertical vs vertical and horizontal vs horizontal\n",
    "num_vertical_features = len(vertical_features.columns)\n",
    "num_horizontal_features = len(horizontal_features.columns)\n",
    "\n",
    "# Get the correlation matrix for vertical vs vertical\n",
    "# This is the top left corner of the matrix\n",
    "vertical_self_correlations = feature_correlation_matrix.iloc[0:num_vertical_features, 0:num_vertical_features]\n",
    "\n",
    "# Get the correlation matrix for horizontal vs horizontal\n",
    "# This is the bottom right corner of the matrix\n",
    "horizontal_self_correlations = feature_correlation_matrix.iloc[num_vertical_features:, num_vertical_features:]\n",
    "\n",
    "# Get the correlation matrix for vertical vs horizontal\n",
    "# want the top right quadrant of the full correlation matrix so vertical and horizontal features are correctly labeled\n",
    "img_type_comparison_correlations = feature_correlation_matrix.iloc[0:num_vertical_features, num_horizontal_features:]"
   ]
  },
  {
   "cell_type": "markdown",
   "metadata": {},
   "source": [
    "# Plotting Correlations"
   ]
  },
  {
   "cell_type": "markdown",
   "metadata": {},
   "source": [
    "### Vertical Features Self-correlation"
   ]
  },
  {
   "cell_type": "code",
   "execution_count": null,
   "metadata": {},
   "outputs": [],
   "source": [
    "vertical_self_plot = plotCorrelationHeatmap(vertical_self_correlations,\n",
    "                       diagonal = True,\n",
    "                       triangle = \"lower\",\n",
    "                       cmap = \"nipy_spectral\",\n",
    "                       xlabel = feature_set_vertical,\n",
    "                       ylabel = feature_set_vertical,\n",
    "                       title = f\"{correlation_method.capitalize()} Correlations for {dataset_name} {extraction_method.capitalize()} Features\",\n",
    "                       subtitle = f\"{feature_set_vertical} vs. {feature_set_vertical}\")\n",
    "\n",
    "savePlotFigure(vertical_self_plot,\n",
    "               plot_name=f\"{dataset_name}_{correlation_method.lower()}_corr_{feature_set_vertical}_v_{feature_set_vertical}_{extraction_method.lower()}_plot.png\",\n",
    "               output_dir_path=f\"../../results/{dataset_name}/{extraction_method.lower()}/correlation_heatmap_plots\")"
   ]
  },
  {
   "cell_type": "markdown",
   "metadata": {},
   "source": [
    "### Horizontal Feature Self-Correlation"
   ]
  },
  {
   "cell_type": "code",
   "execution_count": null,
   "metadata": {},
   "outputs": [],
   "source": [
    "horizontal_self_plot = plotCorrelationHeatmap(correlation_matrix_df = horizontal_self_correlations,\n",
    "                                              diagonal = True,\n",
    "                                              triangle = \"lower\",\n",
    "                                              cmap = \"nipy_spectral\",\n",
    "                                              xlabel = feature_set_horizontal,\n",
    "                                              ylabel = feature_set_horizontal,\n",
    "                                              title = f\"{correlation_method.capitalize()} Correlations for {dataset_name} {extraction_method.capitalize()} Features\",\n",
    "                                              subtitle = f\"{feature_set_horizontal} vs. {feature_set_horizontal}\")\n",
    "\n",
    "savePlotFigure(horizontal_self_plot,\n",
    "               plot_name=f\"{dataset_name}_{correlation_method.lower()}_corr_{feature_set_horizontal}_v_{feature_set_horizontal}_{extraction_method.lower()}_plot.png\",\n",
    "               output_dir_path=f\"../../results/{dataset_name}/{extraction_method.lower()}/correlation_heatmap_plots\")"
   ]
  },
  {
   "cell_type": "markdown",
   "metadata": {},
   "source": [
    "### Vertical vs. Horizontal Feature Correlations"
   ]
  },
  {
   "cell_type": "code",
   "execution_count": null,
   "metadata": {},
   "outputs": [],
   "source": [
    "img_type_comparison_plot = plotCorrelationHeatmap(img_type_comparison_correlations,\n",
    "                                                  diagonal=False,\n",
    "                                                  cmap=\"nipy_spectral\",\n",
    "                                                  xlabel=f\"{feature_set_horizontal}\",\n",
    "                                                  ylabel=f\"{feature_set_vertical}\",\n",
    "                                                  title = f\"{correlation_method.capitalize()} Correlations for {dataset_name} {extraction_method.capitalize()} Features\",\n",
    "                                                  subtitle = f\"{feature_set_vertical} vs. {feature_set_horizontal}\")\n",
    "\n",
    "savePlotFigure(img_type_comparison_plot,\n",
    "               plot_name=f\"{dataset_name}_{correlation_method.lower()}_corr_{feature_set_vertical}_v_{feature_set_horizontal}_{extraction_method.lower()}_plot.png\",\n",
    "               output_dir_path=f\"../../results/{dataset_name}/{extraction_method.lower()}/correlation_heatmap_plots\")"
   ]
  },
  {
   "cell_type": "markdown",
   "metadata": {},
   "source": [
    "# Distribution of corrrelations between features"
   ]
  },
  {
   "cell_type": "markdown",
   "metadata": {},
   "source": [
    "### Vertical Self-correlation"
   ]
  },
  {
   "cell_type": "code",
   "execution_count": null,
   "metadata": {},
   "outputs": [],
   "source": [
    "vertical_corr_dist_fig, vertical_corr_bin_vals, vertical_bin_edges = plotCorrelationDistribution(vertical_self_correlations,\n",
    "                                       num_bins = 450,\n",
    "                                       xlabel = f\"{correlation_method.capitalize()} Correlation\",\n",
    "                                       ylabel = \"Frequency\",\n",
    "                                       y_upper_bound=None,\n",
    "                                       title = f\"Distribution of {correlation_method.capitalize()} Correlations for {extraction_method.capitalize()} Features\",\n",
    "                                       subtitle = f\"{feature_set_vertical} vs. {feature_set_vertical}\"\n",
    "                                      )\n",
    "\n",
    "# savePlotFigure(vertical_corr_dist_fig,\n",
    "#                plot_name = f\"{dataset_name}_{extraction_method}_{correlation_method}_correlation_distribution_{feature_set_vertical}_vs_{feature_set_vertical}.png\",\n",
    "#                output_dir_path=f\"../../results/{dataset_name}/{extraction_method.lower()}/correlation_distribution_plots\")"
   ]
  },
  {
   "cell_type": "markdown",
   "metadata": {},
   "source": [
    "### Horizontal Self-Correlation"
   ]
  },
  {
   "cell_type": "code",
   "execution_count": null,
   "metadata": {},
   "outputs": [],
   "source": [
    "horizontal_corr_dist_fig, horizontal_corr_bin_vals, _ = plotCorrelationDistribution(horizontal_self_correlations,\n",
    "                                       num_bins = 450,\n",
    "                                       xlabel = f\"{correlation_method.capitalize()} Correlation\",\n",
    "                                       ylabel = \"Frequency\",\n",
    "                                       y_upper_bound=None,\n",
    "                                       title = f\"Distribution of {correlation_method.capitalize()} Correlations for {extraction_method.capitalize()} Features\",\n",
    "                                       subtitle = f\"{feature_set_horizontal} vs. {feature_set_horizontal}\"\n",
    "                                      )\n",
    "\n",
    "savePlotFigure(horizontal_corr_dist_fig,\n",
    "               plot_name = f\"{dataset_name}_{extraction_method}_correlation_distribution_{feature_set_horizontal}_vs_{feature_set_horizontal}.png\",\n",
    "               output_dir_path=f\"../../results/{dataset_name}/{extraction_method.lower()}/correlation_distribution_plots\")"
   ]
  },
  {
   "cell_type": "markdown",
   "metadata": {},
   "source": [
    "### Vertical vs Horizontal Feature Correlations"
   ]
  },
  {
   "cell_type": "code",
   "execution_count": null,
   "metadata": {},
   "outputs": [],
   "source": [
    "img_type_comparison_dist_fig, img_type_comparison_corr_bin_vals, img_compare_bin_edges = plotCorrelationDistribution(img_type_comparison_correlations.round(3),\n",
    "                                                            num_bins = 450,\n",
    "                                       xlabel = f\"{correlation_method.capitalize()} Correlation\",\n",
    "                                       ylabel = \"Frequency\",\n",
    "                                       y_upper_bound=None,\n",
    "                                       title = f\"Distribution of {correlation_method.capitalize()} Correlations for {extraction_method.capitalize()} Features\",\n",
    "                                       subtitle = f\"{feature_set_vertical} vs. {feature_set_horizontal}\"\n",
    "                                      )\n",
    "\n",
    "savePlotFigure(img_type_comparison_dist_fig,\n",
    "               plot_name = f\"{dataset_name}_{extraction_method}_correlation_distribution_{feature_set_vertical}_vs_{feature_set_horizontal}.png\",\n",
    "               output_dir_path=f\"../../results/{dataset_name}/{extraction_method.lower()}/correlation_distribution_plots\")"
   ]
  },
  {
   "cell_type": "code",
   "execution_count": null,
   "metadata": {},
   "outputs": [],
   "source": []
  }
 ],
 "metadata": {
  "kernelspec": {
   "display_name": "default",
   "language": "python",
   "name": "python3"
  },
  "language_info": {
   "codemirror_mode": {
    "name": "ipython",
    "version": 3
   },
   "file_extension": ".py",
   "mimetype": "text/x-python",
   "name": "python",
   "nbconvert_exporter": "python",
   "pygments_lexer": "ipython3",
   "version": "3.12.6"
  }
 },
 "nbformat": 4,
 "nbformat_minor": 2
}
