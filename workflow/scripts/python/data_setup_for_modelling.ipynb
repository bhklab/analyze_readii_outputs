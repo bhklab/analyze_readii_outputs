{
 "cells": [
  {
   "cell_type": "markdown",
   "metadata": {},
   "source": [
    " TODO: \n",
    " \n",
    " - Step 1: Download data from ORCESTRA\n",
    " - Step 2: MultiAssayExperiment + BumpyMatrix deconstructor"
   ]
  },
  {
   "cell_type": "code",
   "execution_count": 1,
   "metadata": {},
   "outputs": [],
   "source": [
    "from helpers import *\n",
    "import yaml\n"
   ]
  },
  {
   "cell_type": "code",
   "execution_count": 2,
   "metadata": {},
   "outputs": [],
   "source": [
    "# Set dataset name\n",
    "# Should be in format \"RADCURE\" or \"Head-Neck-Radiomics-HN1\"\n",
    "DATASET_NAME = \"Head-Neck-Radiomics-HN1\"\n",
    "# DATASET_NAME = \"RADCURE\""
   ]
  },
  {
   "cell_type": "markdown",
   "metadata": {},
   "source": [
    "# Step X: Set up the configuration for this dataset"
   ]
  },
  {
   "cell_type": "markdown",
   "metadata": {},
   "source": [
    "#### Load configuration settings"
   ]
  },
  {
   "cell_type": "code",
   "execution_count": 3,
   "metadata": {},
   "outputs": [],
   "source": [
    "config_file = f\"../../config/{DATASET_NAME}.yaml\"\n",
    "config = yaml.safe_load(open(config_file))"
   ]
  },
  {
   "cell_type": "markdown",
   "metadata": {},
   "source": [
    "# Step X: Pick imaging feature signatures to use\n",
    "This can be blank, or you can list the signatures from workflow/signatures/ that you want to use. The string must match the filename of the signature file exactly."
   ]
  },
  {
   "cell_type": "code",
   "execution_count": 4,
   "metadata": {},
   "outputs": [],
   "source": [
    "SIGNATURES = ['aerts']"
   ]
  },
  {
   "cell_type": "markdown",
   "metadata": {},
   "source": [
    "# Step X: Load clinical data"
   ]
  },
  {
   "cell_type": "code",
   "execution_count": 5,
   "metadata": {},
   "outputs": [
    {
     "name": "stdout",
     "output_type": "stream",
     "text": [
      "Clinical data loaded with 137 patients.\n"
     ]
    }
   ],
   "source": [
    "clinical_data_path = f\"../../../rawdata/{DATASET_NAME}/clinical/{DATASET_NAME}.csv\"\n",
    "\n",
    "# Load clinical data into a pandas dataframe\n",
    "clinical_data = loadFileToDataFrame(clinical_data_path)\n",
    "print(f\"Clinical data loaded with {len(clinical_data)} patients.\")"
   ]
  },
  {
   "cell_type": "markdown",
   "metadata": {},
   "source": [
    "# Step X: Clean clinical data\n",
    "- Remove any specified exceptions in config file\n",
    "- Set up the outcome variable column by making sure it is a boolean"
   ]
  },
  {
   "cell_type": "code",
   "execution_count": 6,
   "metadata": {},
   "outputs": [
    {
     "name": "stdout",
     "output_type": "stream",
     "text": [
      "No exclusion variables found in config file.\n"
     ]
    }
   ],
   "source": [
    "# Get exclusion variable dictionary from config file\n",
    "exclusion_clinical_variables = config[\"exclusion_variables\"]\n",
    "\n",
    "if exclusion_clinical_variables:\n",
    "    print(\"Will exclude clinical variables:\", exclusion_clinical_variables.keys())\n",
    "    # Drop rows with values in the exclusion variables\n",
    "    clinical_data = subsetDataframe(clinical_data, excludeDict=exclusion_clinical_variables)\n",
    "    print(\"Clinical data updated, now has\", len(clinical_data), \"patients.\")\n",
    "else:\n",
    "    print(\"No exclusion variables found in config file.\")"
   ]
  },
  {
   "cell_type": "markdown",
   "metadata": {},
   "source": [
    "### Outcome Variable setup\n",
    "This data will be used for a Cox Proportional Hazards model, which expects time and event outcome variables. Time must be a continuous variable, and event must be a binary variable.\n",
    "Event Variable must be in the format where 1 is the event (e.g. death), and 0 is non-event (e.g. alive).\n",
    "In this pipeline, we are expecting the time to event to be in years, so will convert any other units to years."
   ]
  },
  {
   "cell_type": "code",
   "execution_count": 7,
   "metadata": {},
   "outputs": [
    {
     "name": "stdout",
     "output_type": "stream",
     "text": [
      "Time column overall_survival_in_days is numeric. Making copy with standardized column name.\n",
      "Converting time column overall_survival_in_days from days to years.\n",
      "Event column event_overall_survival is binary. Making copy with standardized column name.\n"
     ]
    }
   ],
   "source": [
    "# Set up ouptput variable columns for modelling\n",
    "time_column_label = config[\"outcome_variables\"][\"time_label\"]\n",
    "event_column_label = config[\"outcome_variables\"][\"event_label\"] \n",
    "\n",
    "# def survivalTimeColumnSetup\n",
    "# Confirm that time column is numeric\n",
    "if not np.issubdtype(clinical_data[time_column_label].dtype, np.number):\n",
    "    raise ValueError(f\"Time column {time_column_label} is not numeric. Please confirm time label in {DATASET_NAME}.yaml is the correct column or convert to numeric.\")\n",
    "else:\n",
    "    print(f\"Time column {time_column_label} is numeric. Making copy with standardized column name.\")\n",
    "    if config[\"outcome_variables\"][\"convert_to_years\"]:\n",
    "        print(f\"Converting time column {time_column_label} from days to years.\")\n",
    "        clinical_data[\"survival_time_in_years\"] = clinical_data[time_column_label] / 365\n",
    "    else:\n",
    "        clinical_data[\"survival_time_in_years\"] = clinical_data[time_column_label]\n",
    "\n",
    "\n",
    "# def survivalEventColumnSetup\n",
    "# Determine what type of value is in event column\n",
    "event_variable_type = type(clinical_data[event_column_label][0])\n",
    "if np.issubdtype(event_variable_type, np.number):\n",
    "    print(f\"Event column {event_column_label} is binary. Making copy with standardized column name.\")\n",
    "    clinical_data[\"survival_event_binary\"] = clinical_data[event_column_label]\n",
    "\n",
    "elif np.issubdtype(event_variable_type, np.bool_):\n",
    "    print(f\"Event column {event_column_label} is boolean. Converting to binary.\")\n",
    "    clinical_data[\"survival_event_binary\"] = clinical_data[event_column_label].astype(int)\n",
    "\n",
    "elif np.issubdtype(event_variable_type, np.str_):\n",
    "    print(f\"Event column {event_column_label} is string. Checking what values are present in the column.\")\n",
    "\n",
    "    event_column_values = clinical_data[event_column_label].str.lower().unique()\n",
    "\n",
    "    if len(event_column_values) != 2:\n",
    "        raise ValueError(f\"Event column {event_column_label} can only have two values. Please confirm event label in {DATASET_NAME}.yaml is the correct column or update to have only two values.\")\n",
    "    \n",
    "    # Check if alive and dead are present in the event column\n",
    "    if 'alive' in event_column_values and 'dead' in event_column_values: \n",
    "        print(f\"Converting to binary where 0 is alive and 1 is dead.\")\n",
    "\n",
    "        clinical_data['survival_event_binary'] = clinical_data[event_column_label].str.lower().replace({'alive': '0', 'dead': '1'}).astype(int)\n",
    "\n",
    "    else:\n",
    "        raise ValueError(f\"Event column {event_column_label} doesn't contain any variation of 'alive' and 'dead'. Please confirm event label in {DATASET_NAME}.yaml is the correct column.\")"
   ]
  },
  {
   "cell_type": "markdown",
   "metadata": {},
   "source": [
    "### Set patient ID as index"
   ]
  },
  {
   "cell_type": "code",
   "execution_count": 8,
   "metadata": {},
   "outputs": [],
   "source": [
    "clinical_patient_identifier = getPatientIdentifierLabel(clinical_data)\n",
    "clinical_data.set_index(clinical_patient_identifier, inplace=True)"
   ]
  },
  {
   "cell_type": "markdown",
   "metadata": {},
   "source": [
    "# Step X: Get list of image types in each image feature folder\n",
    "Will be looping over each of these for processing"
   ]
  },
  {
   "cell_type": "code",
   "execution_count": 9,
   "metadata": {},
   "outputs": [],
   "source": [
    "readii_features_dir = f\"../../../rawdata/{DATASET_NAME}/readii_outputs\"\n",
    "fmcib_features_dir = f\"../../../rawdata/{DATASET_NAME}/fmcib_outputs\""
   ]
  },
  {
   "cell_type": "code",
   "execution_count": 10,
   "metadata": {},
   "outputs": [],
   "source": [
    "# Get list of image types in the radiomic and fmcib feature directories\n",
    "radiomic_image_types = sorted([file.removeprefix('radiomicfeatures_').removesuffix(\"_\" + DATASET_NAME + \".csv\") \n",
    "                        for file in os.listdir(readii_features_dir)])\n",
    "\n",
    "fmcib_image_types = sorted([file.removeprefix('fmcibfeatures_').removesuffix(\"_\" + DATASET_NAME + \".csv\") \n",
    "                           for file in os.listdir(fmcib_features_dir)])"
   ]
  },
  {
   "cell_type": "markdown",
   "metadata": {},
   "source": [
    "# For each image type:"
   ]
  },
  {
   "cell_type": "code",
   "execution_count": 14,
   "metadata": {},
   "outputs": [
    {
     "name": "stdout",
     "output_type": "stream",
     "text": [
      "Multiple patient identifier labels found. Using patient_ID.\n",
      "Patients with both clinical and radiomic features: 137\n"
     ]
    }
   ],
   "source": [
    "# TEMPORARY FOR DEBUGGING\n",
    "radiomic_image_types = ['original']\n",
    "\n",
    "for image_type in radiomic_image_types:\n",
    "    # Load the feature data\n",
    "    radiomic_image_features = loadFileToDataFrame(f\"{readii_features_dir}/radiomicfeatures_{image_type}_{DATASET_NAME}.csv\")\n",
    "\n",
    "    # Set the patient ID as the index\n",
    "    radiomic_patient_identifier = getPatientIdentifierLabel(radiomic_image_features)\n",
    "    radiomic_image_features.set_index(radiomic_patient_identifier, inplace=True)\n",
    "\n",
    "    # Filter the clinical and image features to only include patients with imaging and clinical data based on image features index\n",
    "    # e.g. patients with only clinical data will not be included\n",
    "    common_patient_index = radiomic_image_features.index.intersection(clinical_data.index)\n",
    "    print(f\"Patients with both clinical and radiomic features: {len(common_patient_index)}\")\n",
    "\n",
    "    clinical_data = clinical_data.loc[common_patient_index]\n",
    "    radiomic_image_features = radiomic_image_features.loc[common_patient_index]\n",
    "\n",
    "    # Get just the radiomic feature columns from the dataframe, remove any metadata/diagnostics columns\n",
    "    radiomic_feats_only = getOnlyPyradiomicsFeatures(radiomic_image_features)\n",
    "\n",
    "    # Get the survival time and event columns\n",
    "    survival_labels = clinical_data[[\"survival_time_in_years\", \"survival_event_binary\"]]\n",
    "    surv_labelled_radiomic_feats = survival_labels.join(radiomic_feats_only)\n",
    "\n",
    "    # Save outputs at this point\n",
    "    proc_output_dir = f\"../../procdata/{DATASET_NAME}\"\n",
    "    proc_clin_dir = f\"{proc_output_dir}/filtered_clinical\"\n",
    "    proc_feats_dir = f\"{proc_output_dir}/filtered_readii_outputs\"\n",
    "    \n"
   ]
  },
  {
   "cell_type": "code",
   "execution_count": null,
   "metadata": {},
   "outputs": [],
   "source": [
    "# Save out the clinical and radiomic features at this point\n",
    "if not os.path.exists(f\"../../../procdata/{DATASET_NAME}/clinical\"):\n",
    "    os.makedirs(f\"../../../procdata/{DATASET_NAME}/clinical\")\n",
    "clinical_data.to_csv()"
   ]
  },
  {
   "cell_type": "markdown",
   "metadata": {},
   "source": [
    "# Scratch code"
   ]
  },
  {
   "cell_type": "code",
   "execution_count": null,
   "metadata": {},
   "outputs": [],
   "source": [
    "import os\n",
    "os.getcwd()"
   ]
  },
  {
   "cell_type": "code",
   "execution_count": null,
   "metadata": {},
   "outputs": [],
   "source": []
  }
 ],
 "metadata": {
  "kernelspec": {
   "display_name": "Python 3",
   "language": "python",
   "name": "python3"
  },
  "language_info": {
   "codemirror_mode": {
    "name": "ipython",
    "version": 3
   },
   "file_extension": ".py",
   "mimetype": "text/x-python",
   "name": "python",
   "nbconvert_exporter": "python",
   "pygments_lexer": "ipython3",
   "version": "3.12.6"
  }
 },
 "nbformat": 4,
 "nbformat_minor": 2
}
